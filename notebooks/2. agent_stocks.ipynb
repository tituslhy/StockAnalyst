{
 "cells": [
  {
   "cell_type": "code",
   "execution_count": 1,
   "metadata": {},
   "outputs": [],
   "source": [
    "%load_ext autoreload\n",
    "%autoreload 2"
   ]
  },
  {
   "cell_type": "markdown",
   "metadata": {},
   "source": [
    "# Ingestion"
   ]
  },
  {
   "cell_type": "code",
   "execution_count": 4,
   "metadata": {},
   "outputs": [],
   "source": [
    "import yfinance as yf\n",
    "from sqlalchemy import (\n",
    "    create_engine,\n",
    "    MetaData,\n",
    "    Table,\n",
    "    Column,\n",
    "    Float,\n",
    "    DateTime,\n",
    "    Integer\n",
    ")\n",
    "import sqlite3"
   ]
  },
  {
   "cell_type": "code",
   "execution_count": 5,
   "metadata": {},
   "outputs": [],
   "source": [
    "def insert_data(db_path: str,\n",
    "                ticker: str,\n",
    "                date_start: str,\n",
    "                date_end: str) -> None:\n",
    "    try:\n",
    "        data = yf.download(ticker, start = date_start, end = date_end)\n",
    "    except Exception as e:\n",
    "        raise Exception   \n",
    "    data = data.reset_index().drop(\"Adj Close\", axis=1)\n",
    "    engine = create_engine(f\"sqlite:///{db_path}\")\n",
    "    metadata_obj = MetaData()\n",
    "    table = Table(\n",
    "        ticker.lower(),\n",
    "        metadata_obj,\n",
    "        Column(\"id\", Integer, primary_key=True),\n",
    "        Column(\"date\", DateTime),\n",
    "        Column(\"open\", Float),\n",
    "        Column(\"high\", Float),\n",
    "        Column(\"low\", Float),\n",
    "        Column(\"close\", Float),\n",
    "        Column(\"volume\", Integer),\n",
    "    )\n",
    "    metadata_obj.create_all(engine)\n",
    "    conn = sqlite3.connect(db_path)\n",
    "    data.to_sql(\n",
    "        ticker.lower(),\n",
    "        conn,\n",
    "        if_exists='append',\n",
    "        index=False\n",
    "    )"
   ]
  },
  {
   "cell_type": "code",
   "execution_count": 7,
   "metadata": {},
   "outputs": [
    {
     "name": "stderr",
     "output_type": "stream",
     "text": [
      "[*********************100%%**********************]  1 of 1 completed\n"
     ]
    }
   ],
   "source": [
    "insert_data(\n",
    "    db_path = \"../database/stocks.db\",\n",
    "    ticker = \"ILMN\",\n",
    "    date_start = \"2020-01-01\", \n",
    "    date_end=\"2024-12-31\"\n",
    ")"
   ]
  },
  {
   "cell_type": "code",
   "execution_count": 9,
   "metadata": {},
   "outputs": [
    {
     "name": "stderr",
     "output_type": "stream",
     "text": [
      "[*********************100%%**********************]  1 of 1 completed\n"
     ]
    }
   ],
   "source": [
    "insert_data(\n",
    "    db_path = \"../database/stocks.db\",\n",
    "    ticker = \"AAPL\",\n",
    "    date_start = \"2020-01-01\", \n",
    "    date_end=\"2024-12-31\"\n",
    ")"
   ]
  },
  {
   "cell_type": "code",
   "execution_count": 10,
   "metadata": {},
   "outputs": [
    {
     "name": "stderr",
     "output_type": "stream",
     "text": [
      "[*********************100%%**********************]  1 of 1 completed\n"
     ]
    }
   ],
   "source": [
    "insert_data(\n",
    "    db_path = \"../database/stocks.db\",\n",
    "    ticker = \"NVDA\",\n",
    "    date_start = \"2020-01-01\", \n",
    "    date_end=\"2024-12-31\"\n",
    ")"
   ]
  },
  {
   "cell_type": "markdown",
   "metadata": {},
   "source": [
    "Test"
   ]
  },
  {
   "cell_type": "code",
   "execution_count": 8,
   "metadata": {},
   "outputs": [
    {
     "data": {
      "text/html": [
       "<div>\n",
       "<style scoped>\n",
       "    .dataframe tbody tr th:only-of-type {\n",
       "        vertical-align: middle;\n",
       "    }\n",
       "\n",
       "    .dataframe tbody tr th {\n",
       "        vertical-align: top;\n",
       "    }\n",
       "\n",
       "    .dataframe thead th {\n",
       "        text-align: right;\n",
       "    }\n",
       "</style>\n",
       "<table border=\"1\" class=\"dataframe\">\n",
       "  <thead>\n",
       "    <tr style=\"text-align: right;\">\n",
       "      <th></th>\n",
       "      <th>id</th>\n",
       "      <th>date</th>\n",
       "      <th>open</th>\n",
       "      <th>high</th>\n",
       "      <th>low</th>\n",
       "      <th>close</th>\n",
       "      <th>volume</th>\n",
       "    </tr>\n",
       "  </thead>\n",
       "  <tbody>\n",
       "    <tr>\n",
       "      <th>0</th>\n",
       "      <td>1</td>\n",
       "      <td>2020-01-02 00:00:00</td>\n",
       "      <td>329.049988</td>\n",
       "      <td>332.850006</td>\n",
       "      <td>323.290009</td>\n",
       "      <td>327.000000</td>\n",
       "      <td>813900</td>\n",
       "    </tr>\n",
       "    <tr>\n",
       "      <th>1</th>\n",
       "      <td>2</td>\n",
       "      <td>2020-01-03 00:00:00</td>\n",
       "      <td>322.489990</td>\n",
       "      <td>325.140015</td>\n",
       "      <td>321.010010</td>\n",
       "      <td>322.730011</td>\n",
       "      <td>1346100</td>\n",
       "    </tr>\n",
       "    <tr>\n",
       "      <th>2</th>\n",
       "      <td>3</td>\n",
       "      <td>2020-01-06 00:00:00</td>\n",
       "      <td>320.970001</td>\n",
       "      <td>325.709991</td>\n",
       "      <td>318.769989</td>\n",
       "      <td>325.529999</td>\n",
       "      <td>760800</td>\n",
       "    </tr>\n",
       "    <tr>\n",
       "      <th>3</th>\n",
       "      <td>4</td>\n",
       "      <td>2020-01-07 00:00:00</td>\n",
       "      <td>328.209991</td>\n",
       "      <td>331.170013</td>\n",
       "      <td>326.109985</td>\n",
       "      <td>329.690002</td>\n",
       "      <td>789100</td>\n",
       "    </tr>\n",
       "    <tr>\n",
       "      <th>4</th>\n",
       "      <td>5</td>\n",
       "      <td>2020-01-08 00:00:00</td>\n",
       "      <td>328.320007</td>\n",
       "      <td>334.500000</td>\n",
       "      <td>326.739990</td>\n",
       "      <td>332.160004</td>\n",
       "      <td>679700</td>\n",
       "    </tr>\n",
       "  </tbody>\n",
       "</table>\n",
       "</div>"
      ],
      "text/plain": [
       "   id                 date        open        high         low       close  \\\n",
       "0   1  2020-01-02 00:00:00  329.049988  332.850006  323.290009  327.000000   \n",
       "1   2  2020-01-03 00:00:00  322.489990  325.140015  321.010010  322.730011   \n",
       "2   3  2020-01-06 00:00:00  320.970001  325.709991  318.769989  325.529999   \n",
       "3   4  2020-01-07 00:00:00  328.209991  331.170013  326.109985  329.690002   \n",
       "4   5  2020-01-08 00:00:00  328.320007  334.500000  326.739990  332.160004   \n",
       "\n",
       "    volume  \n",
       "0   813900  \n",
       "1  1346100  \n",
       "2   760800  \n",
       "3   789100  \n",
       "4   679700  "
      ]
     },
     "execution_count": 8,
     "metadata": {},
     "output_type": "execute_result"
    }
   ],
   "source": [
    "import pandas as pd\n",
    "conn = sqlite3.connect(\"../database/stocks.db\")\n",
    "pd.read_sql('''SELECT * FROM ilmn LIMIT 5;''', conn)"
   ]
  },
  {
   "cell_type": "markdown",
   "metadata": {},
   "source": [
    "# Instantiate agent"
   ]
  },
  {
   "cell_type": "code",
   "execution_count": 2,
   "metadata": {},
   "outputs": [],
   "source": [
    "from llama_index.core import (\n",
    "    SQLDatabase,\n",
    "    Settings,\n",
    "    VectorStoreIndex\n",
    ")\n",
    "from llama_index.core.indices.struct_store.sql_query import (\n",
    "    SQLTableRetrieverQueryEngine\n",
    ")\n",
    "from llama_index.core.objects import (\n",
    "    SQLTableNodeMapping,\n",
    "    ObjectIndex,\n",
    "    SQLTableSchema\n",
    ")\n",
    "from llama_index.llms.bedrock import Bedrock\n",
    "from llama_index.embeddings.huggingface import HuggingFaceEmbedding\n",
    "from llama_index.core.callbacks import CallbackManager,LlamaDebugHandler\n",
    "\n",
    "import sqlite3\n",
    "from sqlalchemy import create_engine\n",
    "import pandas as pd\n",
    "\n",
    "from IPython.display import display, Markdown\n",
    "\n",
    "import os\n",
    "import logging\n",
    "import sys\n",
    "\n",
    "logging.basicConfig(stream=sys.stdout, level=logging.INFO)\n",
    "logging.getLogger().addHandler(logging.StreamHandler(stream=sys.stdout))"
   ]
  },
  {
   "cell_type": "code",
   "execution_count": 3,
   "metadata": {},
   "outputs": [],
   "source": [
    "llama_debug = LlamaDebugHandler(print_trace_on_end=True)\n",
    "Settings.callback_manager = CallbackManager([llama_debug])"
   ]
  },
  {
   "cell_type": "markdown",
   "metadata": {},
   "source": [
    "LLMs on Bedrock that work include\n",
    "1. anthropic.claude-3-opus-20240229-v1:0\n",
    "\n",
    "> Claude-3-sonnet and Mistral Large does not work!"
   ]
  },
  {
   "cell_type": "code",
   "execution_count": 4,
   "metadata": {},
   "outputs": [
    {
     "name": "stdout",
     "output_type": "stream",
     "text": [
      "INFO:sentence_transformers.SentenceTransformer:Load pretrained SentenceTransformer: jinaai/jina-embeddings-v2-base-en\n",
      "Load pretrained SentenceTransformer: jinaai/jina-embeddings-v2-base-en\n"
     ]
    },
    {
     "name": "stderr",
     "output_type": "stream",
     "text": [
      "/app/tlim2/anaconda3/envs/sandbox/lib/python3.12/site-packages/huggingface_hub/file_download.py:1132: FutureWarning: `resume_download` is deprecated and will be removed in version 1.0.0. Downloads always resume when possible. If you want to force a new download, use `force_download=True`.\n",
      "  warnings.warn(\n",
      "Some weights of BertModel were not initialized from the model checkpoint at jinaai/jina-embeddings-v2-base-en and are newly initialized: ['embeddings.position_embeddings.weight', 'encoder.layer.0.intermediate.dense.bias', 'encoder.layer.0.intermediate.dense.weight', 'encoder.layer.0.output.LayerNorm.bias', 'encoder.layer.0.output.LayerNorm.weight', 'encoder.layer.0.output.dense.bias', 'encoder.layer.0.output.dense.weight', 'encoder.layer.1.intermediate.dense.bias', 'encoder.layer.1.intermediate.dense.weight', 'encoder.layer.1.output.LayerNorm.bias', 'encoder.layer.1.output.LayerNorm.weight', 'encoder.layer.1.output.dense.bias', 'encoder.layer.1.output.dense.weight', 'encoder.layer.10.intermediate.dense.bias', 'encoder.layer.10.intermediate.dense.weight', 'encoder.layer.10.output.LayerNorm.bias', 'encoder.layer.10.output.LayerNorm.weight', 'encoder.layer.10.output.dense.bias', 'encoder.layer.10.output.dense.weight', 'encoder.layer.11.intermediate.dense.bias', 'encoder.layer.11.intermediate.dense.weight', 'encoder.layer.11.output.LayerNorm.bias', 'encoder.layer.11.output.LayerNorm.weight', 'encoder.layer.11.output.dense.bias', 'encoder.layer.11.output.dense.weight', 'encoder.layer.2.intermediate.dense.bias', 'encoder.layer.2.intermediate.dense.weight', 'encoder.layer.2.output.LayerNorm.bias', 'encoder.layer.2.output.LayerNorm.weight', 'encoder.layer.2.output.dense.bias', 'encoder.layer.2.output.dense.weight', 'encoder.layer.3.intermediate.dense.bias', 'encoder.layer.3.intermediate.dense.weight', 'encoder.layer.3.output.LayerNorm.bias', 'encoder.layer.3.output.LayerNorm.weight', 'encoder.layer.3.output.dense.bias', 'encoder.layer.3.output.dense.weight', 'encoder.layer.4.intermediate.dense.bias', 'encoder.layer.4.intermediate.dense.weight', 'encoder.layer.4.output.LayerNorm.bias', 'encoder.layer.4.output.LayerNorm.weight', 'encoder.layer.4.output.dense.bias', 'encoder.layer.4.output.dense.weight', 'encoder.layer.5.intermediate.dense.bias', 'encoder.layer.5.intermediate.dense.weight', 'encoder.layer.5.output.LayerNorm.bias', 'encoder.layer.5.output.LayerNorm.weight', 'encoder.layer.5.output.dense.bias', 'encoder.layer.5.output.dense.weight', 'encoder.layer.6.intermediate.dense.bias', 'encoder.layer.6.intermediate.dense.weight', 'encoder.layer.6.output.LayerNorm.bias', 'encoder.layer.6.output.LayerNorm.weight', 'encoder.layer.6.output.dense.bias', 'encoder.layer.6.output.dense.weight', 'encoder.layer.7.intermediate.dense.bias', 'encoder.layer.7.intermediate.dense.weight', 'encoder.layer.7.output.LayerNorm.bias', 'encoder.layer.7.output.LayerNorm.weight', 'encoder.layer.7.output.dense.bias', 'encoder.layer.7.output.dense.weight', 'encoder.layer.8.intermediate.dense.bias', 'encoder.layer.8.intermediate.dense.weight', 'encoder.layer.8.output.LayerNorm.bias', 'encoder.layer.8.output.LayerNorm.weight', 'encoder.layer.8.output.dense.bias', 'encoder.layer.8.output.dense.weight', 'encoder.layer.9.intermediate.dense.bias', 'encoder.layer.9.intermediate.dense.weight', 'encoder.layer.9.output.LayerNorm.bias', 'encoder.layer.9.output.LayerNorm.weight', 'encoder.layer.9.output.dense.bias', 'encoder.layer.9.output.dense.weight']\n",
      "You should probably TRAIN this model on a down-stream task to be able to use it for predictions and inference.\n",
      "/app/tlim2/anaconda3/envs/sandbox/lib/python3.12/site-packages/huggingface_hub/file_download.py:1132: FutureWarning: `resume_download` is deprecated and will be removed in version 1.0.0. Downloads always resume when possible. If you want to force a new download, use `force_download=True`.\n",
      "  warnings.warn(\n"
     ]
    },
    {
     "name": "stdout",
     "output_type": "stream",
     "text": [
      "INFO:sentence_transformers.SentenceTransformer:2 prompts are loaded, with the keys: ['query', 'text']\n",
      "2 prompts are loaded, with the keys: ['query', 'text']\n"
     ]
    }
   ],
   "source": [
    "Settings.llm = Bedrock(\n",
    "    model = \"anthropic.claude-3-opus-20240229-v1:0\",\n",
    "    aws_access_key_id = os.environ[\"AWS_ACCESS_KEY\"],\n",
    "    aws_secret_access_key = os.environ[\"AWS_SECRET_ACCESS_KEY\"],\n",
    "    aws_region_name = os.environ[\"AWS_DEFAULT_REGION\"]\n",
    ")\n",
    "Settings.embed_model = HuggingFaceEmbedding(\n",
    "    model_name = 'jinaai/jina-embeddings-v2-base-en'\n",
    ")"
   ]
  },
  {
   "cell_type": "code",
   "execution_count": 5,
   "metadata": {},
   "outputs": [],
   "source": [
    "# Get tables\n",
    "conn = sqlite3.connect(\"../database/stocks.db\")\n",
    "sql_query = \"\"\"SELECT name FROM sqlite_master \n",
    "WHERE type='table';\"\"\"\n",
    "cursor = conn.cursor()\n",
    "\n",
    "cursor.execute(sql_query)\n",
    "tables = cursor.fetchall()"
   ]
  },
  {
   "cell_type": "code",
   "execution_count": 6,
   "metadata": {},
   "outputs": [
    {
     "data": {
      "text/plain": [
       "['ilmn', 'aapl', 'nvda']"
      ]
     },
     "execution_count": 6,
     "metadata": {},
     "output_type": "execute_result"
    }
   ],
   "source": [
    "tables = [table[0] for table in tables]\n",
    "tables"
   ]
  },
  {
   "cell_type": "code",
   "execution_count": 7,
   "metadata": {},
   "outputs": [],
   "source": [
    "table_name = {\"ilmn\": \"Illumina\",\n",
    "              \"aapl\": \"Apple\",\n",
    "              \"nvda\": \"Nvidia\"}"
   ]
  },
  {
   "cell_type": "code",
   "execution_count": 8,
   "metadata": {},
   "outputs": [],
   "source": [
    "engine = create_engine(\"sqlite:///../database/stocks.db\")\n",
    "sql_database = SQLDatabase(engine, include_tables = tables)\n",
    "table_node_mapping = SQLTableNodeMapping(sql_database)"
   ]
  },
  {
   "cell_type": "code",
   "execution_count": 9,
   "metadata": {},
   "outputs": [],
   "source": [
    "table_schema_objs = [\n",
    "    SQLTableSchema(table_name=table,\n",
    "                   context_str = f\"This table gives information regarding the {table_name[table]}'s stock metrics including closing and opening stock prices and volume.\")\n",
    "    for table in tables\n",
    "]"
   ]
  },
  {
   "cell_type": "code",
   "execution_count": 10,
   "metadata": {},
   "outputs": [
    {
     "data": {
      "text/plain": [
       "[SQLTableSchema(table_name='ilmn', context_str=\"This table gives information regarding the Illumina's stock metrics including closing and opening stock prices and volume.\"),\n",
       " SQLTableSchema(table_name='aapl', context_str=\"This table gives information regarding the Apple's stock metrics including closing and opening stock prices and volume.\"),\n",
       " SQLTableSchema(table_name='nvda', context_str=\"This table gives information regarding the Nvidia's stock metrics including closing and opening stock prices and volume.\")]"
      ]
     },
     "execution_count": 10,
     "metadata": {},
     "output_type": "execute_result"
    }
   ],
   "source": [
    "table_schema_objs"
   ]
  },
  {
   "cell_type": "markdown",
   "metadata": {},
   "source": [
    "## Create index"
   ]
  },
  {
   "cell_type": "code",
   "execution_count": 10,
   "metadata": {},
   "outputs": [
    {
     "data": {
      "application/vnd.jupyter.widget-view+json": {
       "model_id": "a7869cd63f9542b8a1fd46dc0d9576da",
       "version_major": 2,
       "version_minor": 0
      },
      "text/plain": [
       "Batches:   0%|          | 0/1 [00:00<?, ?it/s]"
      ]
     },
     "metadata": {},
     "output_type": "display_data"
    },
    {
     "name": "stdout",
     "output_type": "stream",
     "text": [
      "**********\n",
      "Trace: index_construction\n",
      "    |_CBEventType.EMBEDDING -> 0.408565 seconds\n",
      "**********\n"
     ]
    }
   ],
   "source": [
    "obj_index = ObjectIndex.from_objects(\n",
    "    table_schema_objs,\n",
    "    table_node_mapping,\n",
    "    VectorStoreIndex\n",
    ")"
   ]
  },
  {
   "cell_type": "markdown",
   "metadata": {},
   "source": [
    "## Create query engine"
   ]
  },
  {
   "cell_type": "code",
   "execution_count": 11,
   "metadata": {},
   "outputs": [],
   "source": [
    "query_engine = SQLTableRetrieverQueryEngine(\n",
    "    sql_database,\n",
    "    obj_index.as_retriever()\n",
    ")"
   ]
  },
  {
   "cell_type": "code",
   "execution_count": 12,
   "metadata": {},
   "outputs": [
    {
     "data": {
      "application/vnd.jupyter.widget-view+json": {
       "model_id": "0beab85ab3204628b55f4d561685ab41",
       "version_major": 2,
       "version_minor": 0
      },
      "text/plain": [
       "Batches:   0%|          | 0/1 [00:00<?, ?it/s]"
      ]
     },
     "metadata": {},
     "output_type": "display_data"
    },
    {
     "name": "stdout",
     "output_type": "stream",
     "text": [
      "INFO:llama_index.core.indices.struct_store.sql_retriever:> Table desc str: Table 'nvda' has columns: id (INTEGER), date (DATETIME), open (FLOAT), high (FLOAT), low (FLOAT), close (FLOAT), volume (INTEGER), and foreign keys: . The table description is: This table gives information regarding the Nvidia's stock metrics including closing and opening stock prices and volume.\n",
      "\n",
      "Table 'aapl' has columns: id (INTEGER), date (DATETIME), open (FLOAT), high (FLOAT), low (FLOAT), close (FLOAT), volume (INTEGER), and foreign keys: . The table description is: This table gives information regarding the Apple's stock metrics including closing and opening stock prices and volume.\n",
      "> Table desc str: Table 'nvda' has columns: id (INTEGER), date (DATETIME), open (FLOAT), high (FLOAT), low (FLOAT), close (FLOAT), volume (INTEGER), and foreign keys: . The table description is: This table gives information regarding the Nvidia's stock metrics including closing and opening stock prices and volume.\n",
      "\n",
      "Table 'aapl' has columns: id (INTEGER), date (DATETIME), open (FLOAT), high (FLOAT), low (FLOAT), close (FLOAT), volume (INTEGER), and foreign keys: . The table description is: This table gives information regarding the Apple's stock metrics including closing and opening stock prices and volume.\n",
      "**********\n",
      "Trace: query\n",
      "    |_CBEventType.RETRIEVE -> 0.020578 seconds\n",
      "      |_CBEventType.EMBEDDING -> 0.018716 seconds\n",
      "    |_CBEventType.TEMPLATING -> 2.6e-05 seconds\n",
      "    |_CBEventType.LLM -> 22.061151 seconds\n",
      "    |_CBEventType.LLM -> 22.060848 seconds\n",
      "    |_CBEventType.SYNTHESIZE -> 25.923086 seconds\n",
      "      |_CBEventType.TEMPLATING -> 2.1e-05 seconds\n",
      "      |_CBEventType.LLM -> 25.879109 seconds\n",
      "      |_CBEventType.LLM -> 25.878393 seconds\n",
      "**********\n"
     ]
    },
    {
     "data": {
      "text/markdown": [
       "<b>Based on the closing price data provided for Apple stock from 2020 through 2023, Apple's stock price showed an overall upward trend despite the economic challenges posed by the COVID-19 pandemic during this period.\n",
       "\n",
       "In early 2020, Apple's stock price hovered around $75-$80. It dipped to around $60 in March 2020 as the pandemic took hold, but then began a steady climb upwards. By late 2020, the stock was trading above $130.\n",
       "\n",
       "The upward momentum continued in 2021, with the stock reaching the $180 level by year-end, more than doubling from the lows seen in early 2020. \n",
       "\n",
       "In 2022, Apple's stock price was more volatile, trading in a range between about $130-$180 for most of the year. However, it ended 2022 near the top of that range around $130.\n",
       "\n",
       "So far in 2023, Apple's stock has continued to advance, climbing above the $190 level in recent months.\n",
       "\n",
       "In summary, while there were some dips and volatility, Apple's stock price more than doubled from 2020 to 2023 despite the economic headwinds, demonstrating the company's resilience. The data suggests Apple was not heavily impacted by the pandemic-driven recessions compared to the overall upward trajectory of its stock performance over this multi-year period.</b>"
      ],
      "text/plain": [
       "<IPython.core.display.Markdown object>"
      ]
     },
     "metadata": {},
     "output_type": "display_data"
    }
   ],
   "source": [
    "query_str = \"Describe the general closing price trend for Apple in 2020, 2021, 2022 and 2023. These years were plagued with economic recessions arising from COVID-19. Was Apple heavily affected?\"\n",
    "response = query_engine.query(query_str)\n",
    "display(Markdown(f\"<b>{response}</b>\"))"
   ]
  },
  {
   "cell_type": "markdown",
   "metadata": {},
   "source": [
    "#### Verify"
   ]
  },
  {
   "cell_type": "code",
   "execution_count": 15,
   "metadata": {},
   "outputs": [],
   "source": [
    "import pandas as pd\n",
    "conn = sqlite3.connect(\"../database/stocks.db\")\n",
    "df = pd.read_sql('''SELECT * FROM aapl;''', conn)"
   ]
  },
  {
   "cell_type": "code",
   "execution_count": 16,
   "metadata": {},
   "outputs": [
    {
     "data": {
      "text/html": [
       "<div>\n",
       "<style scoped>\n",
       "    .dataframe tbody tr th:only-of-type {\n",
       "        vertical-align: middle;\n",
       "    }\n",
       "\n",
       "    .dataframe tbody tr th {\n",
       "        vertical-align: top;\n",
       "    }\n",
       "\n",
       "    .dataframe thead th {\n",
       "        text-align: right;\n",
       "    }\n",
       "</style>\n",
       "<table border=\"1\" class=\"dataframe\">\n",
       "  <thead>\n",
       "    <tr style=\"text-align: right;\">\n",
       "      <th></th>\n",
       "      <th>id</th>\n",
       "      <th>date</th>\n",
       "      <th>open</th>\n",
       "      <th>high</th>\n",
       "      <th>low</th>\n",
       "      <th>close</th>\n",
       "      <th>volume</th>\n",
       "    </tr>\n",
       "  </thead>\n",
       "  <tbody>\n",
       "    <tr>\n",
       "      <th>0</th>\n",
       "      <td>1</td>\n",
       "      <td>2020-01-02</td>\n",
       "      <td>74.059998</td>\n",
       "      <td>75.150002</td>\n",
       "      <td>73.797501</td>\n",
       "      <td>75.087502</td>\n",
       "      <td>135480400</td>\n",
       "    </tr>\n",
       "    <tr>\n",
       "      <th>1</th>\n",
       "      <td>2</td>\n",
       "      <td>2020-01-03</td>\n",
       "      <td>74.287498</td>\n",
       "      <td>75.144997</td>\n",
       "      <td>74.125000</td>\n",
       "      <td>74.357498</td>\n",
       "      <td>146322800</td>\n",
       "    </tr>\n",
       "    <tr>\n",
       "      <th>2</th>\n",
       "      <td>3</td>\n",
       "      <td>2020-01-06</td>\n",
       "      <td>73.447502</td>\n",
       "      <td>74.989998</td>\n",
       "      <td>73.187500</td>\n",
       "      <td>74.949997</td>\n",
       "      <td>118387200</td>\n",
       "    </tr>\n",
       "    <tr>\n",
       "      <th>3</th>\n",
       "      <td>4</td>\n",
       "      <td>2020-01-07</td>\n",
       "      <td>74.959999</td>\n",
       "      <td>75.224998</td>\n",
       "      <td>74.370003</td>\n",
       "      <td>74.597504</td>\n",
       "      <td>108872000</td>\n",
       "    </tr>\n",
       "    <tr>\n",
       "      <th>4</th>\n",
       "      <td>5</td>\n",
       "      <td>2020-01-08</td>\n",
       "      <td>74.290001</td>\n",
       "      <td>76.110001</td>\n",
       "      <td>74.290001</td>\n",
       "      <td>75.797501</td>\n",
       "      <td>132079200</td>\n",
       "    </tr>\n",
       "  </tbody>\n",
       "</table>\n",
       "</div>"
      ],
      "text/plain": [
       "   id       date       open       high        low      close     volume\n",
       "0   1 2020-01-02  74.059998  75.150002  73.797501  75.087502  135480400\n",
       "1   2 2020-01-03  74.287498  75.144997  74.125000  74.357498  146322800\n",
       "2   3 2020-01-06  73.447502  74.989998  73.187500  74.949997  118387200\n",
       "3   4 2020-01-07  74.959999  75.224998  74.370003  74.597504  108872000\n",
       "4   5 2020-01-08  74.290001  76.110001  74.290001  75.797501  132079200"
      ]
     },
     "execution_count": 16,
     "metadata": {},
     "output_type": "execute_result"
    }
   ],
   "source": [
    "df['date'] = pd.to_datetime(df['date'])\n",
    "df.head()"
   ]
  },
  {
   "cell_type": "code",
   "execution_count": 17,
   "metadata": {},
   "outputs": [],
   "source": [
    "df['year'] = df['date'].dt.year"
   ]
  },
  {
   "cell_type": "code",
   "execution_count": 18,
   "metadata": {},
   "outputs": [
    {
     "data": {
      "text/html": [
       "<div>\n",
       "<style scoped>\n",
       "    .dataframe tbody tr th:only-of-type {\n",
       "        vertical-align: middle;\n",
       "    }\n",
       "\n",
       "    .dataframe tbody tr th {\n",
       "        vertical-align: top;\n",
       "    }\n",
       "\n",
       "    .dataframe thead th {\n",
       "        text-align: right;\n",
       "    }\n",
       "</style>\n",
       "<table border=\"1\" class=\"dataframe\">\n",
       "  <thead>\n",
       "    <tr style=\"text-align: right;\">\n",
       "      <th></th>\n",
       "      <th>year</th>\n",
       "      <th>close</th>\n",
       "    </tr>\n",
       "  </thead>\n",
       "  <tbody>\n",
       "    <tr>\n",
       "      <th>0</th>\n",
       "      <td>2020</td>\n",
       "      <td>95.347075</td>\n",
       "    </tr>\n",
       "    <tr>\n",
       "      <th>1</th>\n",
       "      <td>2021</td>\n",
       "      <td>140.989365</td>\n",
       "    </tr>\n",
       "    <tr>\n",
       "      <th>2</th>\n",
       "      <td>2022</td>\n",
       "      <td>154.835060</td>\n",
       "    </tr>\n",
       "    <tr>\n",
       "      <th>3</th>\n",
       "      <td>2023</td>\n",
       "      <td>172.549000</td>\n",
       "    </tr>\n",
       "    <tr>\n",
       "      <th>4</th>\n",
       "      <td>2024</td>\n",
       "      <td>178.554204</td>\n",
       "    </tr>\n",
       "  </tbody>\n",
       "</table>\n",
       "</div>"
      ],
      "text/plain": [
       "   year       close\n",
       "0  2020   95.347075\n",
       "1  2021  140.989365\n",
       "2  2022  154.835060\n",
       "3  2023  172.549000\n",
       "4  2024  178.554204"
      ]
     },
     "execution_count": 18,
     "metadata": {},
     "output_type": "execute_result"
    }
   ],
   "source": [
    "df[['year', 'close']].groupby('year').mean().reset_index()"
   ]
  },
  {
   "cell_type": "code",
   "execution_count": 19,
   "metadata": {},
   "outputs": [
    {
     "data": {
      "text/html": [
       "<div>\n",
       "<style scoped>\n",
       "    .dataframe tbody tr th:only-of-type {\n",
       "        vertical-align: middle;\n",
       "    }\n",
       "\n",
       "    .dataframe tbody tr th {\n",
       "        vertical-align: top;\n",
       "    }\n",
       "\n",
       "    .dataframe thead th {\n",
       "        text-align: right;\n",
       "    }\n",
       "</style>\n",
       "<table border=\"1\" class=\"dataframe\">\n",
       "  <thead>\n",
       "    <tr style=\"text-align: right;\">\n",
       "      <th></th>\n",
       "      <th>year</th>\n",
       "      <th>close</th>\n",
       "    </tr>\n",
       "  </thead>\n",
       "  <tbody>\n",
       "    <tr>\n",
       "      <th>0</th>\n",
       "      <td>2020</td>\n",
       "      <td>56.092499</td>\n",
       "    </tr>\n",
       "    <tr>\n",
       "      <th>1</th>\n",
       "      <td>2021</td>\n",
       "      <td>116.360001</td>\n",
       "    </tr>\n",
       "    <tr>\n",
       "      <th>2</th>\n",
       "      <td>2022</td>\n",
       "      <td>126.040001</td>\n",
       "    </tr>\n",
       "    <tr>\n",
       "      <th>3</th>\n",
       "      <td>2023</td>\n",
       "      <td>125.019997</td>\n",
       "    </tr>\n",
       "    <tr>\n",
       "      <th>4</th>\n",
       "      <td>2024</td>\n",
       "      <td>165.000000</td>\n",
       "    </tr>\n",
       "  </tbody>\n",
       "</table>\n",
       "</div>"
      ],
      "text/plain": [
       "   year       close\n",
       "0  2020   56.092499\n",
       "1  2021  116.360001\n",
       "2  2022  126.040001\n",
       "3  2023  125.019997\n",
       "4  2024  165.000000"
      ]
     },
     "execution_count": 19,
     "metadata": {},
     "output_type": "execute_result"
    }
   ],
   "source": [
    "df[['year', 'close']].groupby('year').min().reset_index()"
   ]
  },
  {
   "cell_type": "code",
   "execution_count": 23,
   "metadata": {},
   "outputs": [
    {
     "data": {
      "text/plain": [
       "date     2021-12-31 00:00:00\n",
       "close             180.330002\n",
       "dtype: object"
      ]
     },
     "execution_count": 23,
     "metadata": {},
     "output_type": "execute_result"
    }
   ],
   "source": [
    "df[df['year']==2021][['date', 'close']].max()"
   ]
  },
  {
   "cell_type": "markdown",
   "metadata": {},
   "source": [
    "# Agent Experiments"
   ]
  },
  {
   "cell_type": "code",
   "execution_count": null,
   "metadata": {},
   "outputs": [],
   "source": [
    "companies = \", \".join(list(table_name.values()))"
   ]
  },
  {
   "cell_type": "code",
   "execution_count": 36,
   "metadata": {},
   "outputs": [],
   "source": [
    "from llama_index.core.agent import ReActAgent\n",
    "\n",
    "from llama_index.core.tools import QueryEngineTool, ToolMetadata\n",
    "from llama_index.tools.tavily_research.base import TavilyToolSpec\n",
    "\n",
    "import os\n",
    "from dotenv import load_dotenv, find_dotenv\n",
    "\n",
    "load_dotenv(find_dotenv())\n",
    "\n",
    "query_engine_tools = [\n",
    "    QueryEngineTool(\n",
    "        query_engine = query_engine,\n",
    "        metadata = ToolMetadata(\n",
    "            name=\"stocks\",\n",
    "            description = (\n",
    "                f\"Provides stock information about these companies: '{companies}' including\"\n",
    "                \" open, high, low, and closing prices, as well as stock volumes on a\"\n",
    "                \" daily basis from 2020-2024. Use a detailed plain text question as\"\n",
    "                \" input to the tool.\"\n",
    "            )\n",
    "        )\n",
    "    )\n",
    "]\n",
    "\n",
    "tavily_tool = TavilyToolSpec(\n",
    "    api_key = os.environ[\"TAVILY_API_KEY\"]\n",
    ")\n",
    "query_engine_tools.extend(tavily_tool.to_tool_list())"
   ]
  },
  {
   "cell_type": "markdown",
   "metadata": {},
   "source": [
    "## ReAct Agent"
   ]
  },
  {
   "cell_type": "code",
   "execution_count": 37,
   "metadata": {},
   "outputs": [],
   "source": [
    "agent = ReActAgent.from_tools(\n",
    "    tools = query_engine_tools,\n",
    "    verbose = True,\n",
    "    system_prompt = f\"\"\"\\\n",
    "    You are a skilled stock analyst designed to analyse stock price trends against\n",
    "    public information. You are honest. If you do not know the answer, you will\n",
    "    not make up an answer. You must always use at least one of the tools\n",
    "    provided when answering a question.\"\"\"\n",
    ")"
   ]
  },
  {
   "cell_type": "code",
   "execution_count": 38,
   "metadata": {},
   "outputs": [
    {
     "name": "stdout",
     "output_type": "stream",
     "text": [
      "\u001b[1;3;38;5;200mThought: The current language of the user is: English. I need to use a tool to help me answer the question.\n",
      "Action: stocks\n",
      "Action Input: {'input': \"Compare and contrast Apple, Nvidia and Illumina's stock price trends from 2020-2024. Which company weathered the economic recession from COVID-19 better? If I have $10,000, which company should I invest in?\"}\n",
      "\u001b[0m"
     ]
    },
    {
     "data": {
      "application/vnd.jupyter.widget-view+json": {
       "model_id": "f8ab18f0ee6c4bf688527dffcfebf260",
       "version_major": 2,
       "version_minor": 0
      },
      "text/plain": [
       "Batches:   0%|          | 0/1 [00:00<?, ?it/s]"
      ]
     },
     "metadata": {},
     "output_type": "display_data"
    },
    {
     "name": "stdout",
     "output_type": "stream",
     "text": [
      "INFO:llama_index.core.indices.struct_store.sql_retriever:> Table desc str: Table 'ilmn' has columns: id (INTEGER), date (DATETIME), open (FLOAT), high (FLOAT), low (FLOAT), close (FLOAT), volume (INTEGER), and foreign keys: . The table description is: This table gives information regarding the Illumina's stock metrics including closing and opening stock prices and volume.\n",
      "\n",
      "Table 'nvda' has columns: id (INTEGER), date (DATETIME), open (FLOAT), high (FLOAT), low (FLOAT), close (FLOAT), volume (INTEGER), and foreign keys: . The table description is: This table gives information regarding the Nvidia's stock metrics including closing and opening stock prices and volume.\n",
      "> Table desc str: Table 'ilmn' has columns: id (INTEGER), date (DATETIME), open (FLOAT), high (FLOAT), low (FLOAT), close (FLOAT), volume (INTEGER), and foreign keys: . The table description is: This table gives information regarding the Illumina's stock metrics including closing and opening stock prices and volume.\n",
      "\n",
      "Table 'nvda' has columns: id (INTEGER), date (DATETIME), open (FLOAT), high (FLOAT), low (FLOAT), close (FLOAT), volume (INTEGER), and foreign keys: . The table description is: This table gives information regarding the Nvidia's stock metrics including closing and opening stock prices and volume.\n",
      "\u001b[1;3;34mObservation: Here is a summary comparing Apple, Nvidia and Illumina's stock price trends from 2020-2024, based on the provided data:\n",
      "\n",
      "Nvidia's stock price increased dramatically over the 2020-2024 period, rising from around $60 in early 2020 to over $900 by early 2024. There were some dips along the way, especially in late 2022, but the overall trajectory was strongly positive.\n",
      "\n",
      "In contrast, Illumina's stock price was much more volatile. It traded between $300-400 for most of 2020-2021, then dropped sharply in early 2022 down to around $200. The price recovered somewhat in late 2022 and 2023 but remained well below the 2020-2021 levels, ending around $120 in May 2024.\n",
      "\n",
      "The data does not include Apple's stock price for comparison.\n",
      "\n",
      "In terms of weathering the COVID-19 economic impacts in 2020, Nvidia's stock dipped in March 2020 but quickly recovered and continued its upward climb. Illumina's stock also dropped in March 2020 and took longer to recover, not reaching pre-pandemic levels again until around August 2020.\n",
      "\n",
      "Given Nvidia's very strong price appreciation over this period compared to Illumina's underperformance, Nvidia would likely have been the better investment choice if investing $10,000 in early 2020. However, past performance does not guarantee future returns. A thorough analysis of the companies' financials, competitive positioning and growth prospects would be prudent before making an investment decision.\n",
      "\n",
      "In summary, Nvidia significantly outperformed Illumina in stock price growth between 2020-2024, weathering the pandemic impacts more robustly. However, the data is historical and may not be predictive of future results. More analysis beyond just stock price would be advisable to make a sound investment choice between the two companies.\n",
      "\u001b[0m\u001b[1;3;38;5;200mThought: The stock data provided good insights into the historical performance of Nvidia and Illumina from 2020-2024, but did not include information on Apple to allow a full comparison of all three companies mentioned in the original question. To provide a more complete answer, I will search for additional information on Apple's stock price trends and performance over that same time period.\n",
      "Action: search\n",
      "Action Input: {'query': 'Apple stock price trends 2020-2024', 'max_results': 3}\n",
      "\u001b[0m\u001b[1;3;34mObservation: [Document(id_='5e924c9b-511b-4c91-9265-8190c82c5dae', embedding=None, metadata={'url': 'https://www.macrotrends.net/stocks/charts/AAPL/apple/stock-price-history'}, excluded_embed_metadata_keys=[], excluded_llm_metadata_keys=[], relationships={}, text='The latest closing stock price for Apple as of April 26, 2024 is 169.30. The all-time high Apple stock closing price was 197.86 on December 14, 2023. The Apple 52-week high stock price is 199.62, which is 17.9% above the current share price. The Apple 52-week low stock price is 164.07, which is 3.1% below the current share price.', start_char_idx=None, end_char_idx=None, text_template='{metadata_str}\\n\\n{content}', metadata_template='{key}: {value}', metadata_seperator='\\n'), Document(id_='5609635c-e5a8-4248-91bb-d93ba116aea3', embedding=None, metadata={'url': 'https://finance.yahoo.com/quote/AAPL/history'}, excluded_embed_metadata_keys=[], excluded_llm_metadata_keys=[], relationships={}, text='164.31. 165.79. 164.91. 81,235,400. Discover historical prices for AAPL stock on Yahoo Finance. View daily, weekly or monthly format back to when Apple Inc. stock was issued.', start_char_idx=None, end_char_idx=None, text_template='{metadata_str}\\n\\n{content}', metadata_template='{key}: {value}', metadata_seperator='\\n'), Document(id_='8d2fd19b-a2b3-432a-8ed6-355b7f917767', embedding=None, metadata={'url': 'https://www.nasdaq.com/market-activity/stocks/aapl/historical'}, excluded_embed_metadata_keys=[], excluded_llm_metadata_keys=[], relationships={}, text='Find the latest historical data for Apple Inc. Common Stock (AAPL) at Nasdaq.com. View historical data in a monthly, bi-annual, or yearly format.', start_char_idx=None, end_char_idx=None, text_template='{metadata_str}\\n\\n{content}', metadata_template='{key}: {value}', metadata_seperator='\\n')]\n",
      "\u001b[0m\u001b[1;3;38;5;200mThought: The search results provide useful information on Apple's recent stock price trends and performance. Key points:\n",
      "\n",
      "- Apple's stock closed at $169.30 on April 26, 2024\n",
      "- The 52-week high was $199.62 and the 52-week low was $164.07\n",
      "- The all-time high closing price was $197.86 on December 14, 2023\n",
      "\n",
      "This suggests Apple's stock has been trading in a fairly tight range over the past year, with some volatility. The all-time high in late 2023 indicates the stock had a strong run-up, likely recovering well from the COVID-19 impacts in 2020.\n",
      "\n",
      "I now have sufficient information from the stock data tool and web searches to provide a comprehensive answer comparing the stock price trends and performance of Apple, Nvidia and Illumina from 2020-2024. I will summarize the key points in the final answer.\n",
      "Answer: Based on the stock price data from 2020-2024, here is a comparison of how Apple, Nvidia and Illumina performed:\n",
      "\n",
      "Nvidia was the clear winner in terms of stock price appreciation. Its shares soared from around $60 in early 2020 to over $900 by early 2024, a stunning 15x increase. While there was some volatility, especially in late 2022, the overall trajectory was very positive. \n",
      "\n",
      "Apple also performed well, although not as spectacularly as Nvidia. Apple's stock reached an all-time high of $197.86 in December 2023 and was trading around $169 as of April 2024. This represents a solid recovery from the COVID-19 downturn and steady gains, although the stock seemed to hit resistance around the $200 level.\n",
      "\n",
      "Illumina significantly underperformed the other two. Its stock bounced between $300-400 for most of 2020-2021 but then dropped sharply in early 2022 to around $200. While there was some recovery in late 2022 and 2023, the stock ended the period much lower at about $120 in May 2024.\n",
      "\n",
      "In terms of weathering the initial economic shock from COVID-19 in early 2020, Nvidia's stock recovered the quickest and strongest. Apple also bounced back fairly well\n",
      "\u001b[0m**********\n",
      "Trace: chat\n",
      "    |_CBEventType.AGENT_STEP -> 177.320721 seconds\n",
      "      |_CBEventType.LLM -> 3.625186 seconds\n",
      "      |_CBEventType.LLM -> 3.624895 seconds\n",
      "      |_CBEventType.FUNCTION_CALL -> 136.369294 seconds\n",
      "        |_CBEventType.RETRIEVE -> 0.029385 seconds\n",
      "          |_CBEventType.EMBEDDING -> 0.027949 seconds\n",
      "        |_CBEventType.TEMPLATING -> 2.2e-05 seconds\n",
      "        |_CBEventType.LLM -> 20.928603 seconds\n",
      "        |_CBEventType.LLM -> 20.928356 seconds\n",
      "        |_CBEventType.SYNTHESIZE -> 115.40408 seconds\n",
      "          |_CBEventType.TEMPLATING -> 2.1e-05 seconds\n",
      "          |_CBEventType.LLM -> 115.33992 seconds\n",
      "          |_CBEventType.LLM -> 115.338941 seconds\n",
      "      |_CBEventType.LLM -> 7.651475 seconds\n",
      "      |_CBEventType.LLM -> 7.651152 seconds\n",
      "      |_CBEventType.FUNCTION_CALL -> 2.193844 seconds\n",
      "      |_CBEventType.LLM -> 27.478181 seconds\n",
      "      |_CBEventType.LLM -> 27.477804 seconds\n",
      "**********\n"
     ]
    },
    {
     "data": {
      "text/markdown": [
       "<b>Based on the stock price data from 2020-2024, here is a comparison of how Apple, Nvidia and Illumina performed:\n",
       "\n",
       "Nvidia was the clear winner in terms of stock price appreciation. Its shares soared from around $60 in early 2020 to over $900 by early 2024, a stunning 15x increase. While there was some volatility, especially in late 2022, the overall trajectory was very positive. \n",
       "\n",
       "Apple also performed well, although not as spectacularly as Nvidia. Apple's stock reached an all-time high of $197.86 in December 2023 and was trading around $169 as of April 2024. This represents a solid recovery from the COVID-19 downturn and steady gains, although the stock seemed to hit resistance around the $200 level.\n",
       "\n",
       "Illumina significantly underperformed the other two. Its stock bounced between $300-400 for most of 2020-2021 but then dropped sharply in early 2022 to around $200. While there was some recovery in late 2022 and 2023, the stock ended the period much lower at about $120 in May 2024.\n",
       "\n",
       "In terms of weathering the initial economic shock from COVID-19 in early 2020, Nvidia's stock recovered the quickest and strongest. Apple also bounced back fairly well</b>"
      ],
      "text/plain": [
       "<IPython.core.display.Markdown object>"
      ]
     },
     "metadata": {},
     "output_type": "display_data"
    }
   ],
   "source": [
    "query_string = \"Compare and contrast Apple, Nvidia and Illumina's stock price trends from 2020-2024. Which company weathered the economic recession from COVID-19 better? If I have $10,000, which company should I invest in?\"\n",
    "response = agent.chat(query_string)\n",
    "display(Markdown(f\"<b>{response}</b>\"))"
   ]
  },
  {
   "cell_type": "markdown",
   "metadata": {},
   "source": [
    "This query is quite complex. The ReAct agent took 3mins to answer"
   ]
  },
  {
   "cell_type": "markdown",
   "metadata": {},
   "source": [
    "## LATS Agent\n",
    "This approach takes longer than ReAct because it's searching through the tree. Might not be suitable for SQL data."
   ]
  },
  {
   "cell_type": "code",
   "execution_count": 42,
   "metadata": {},
   "outputs": [],
   "source": [
    "from llama_index.packs.agents_lats import LATSPack\n",
    "\n",
    "import nest_asyncio\n",
    "nest_asyncio.apply()"
   ]
  },
  {
   "cell_type": "code",
   "execution_count": 43,
   "metadata": {},
   "outputs": [],
   "source": [
    "lats_agent = LATSPack(\n",
    "    tools = query_engine_tools,\n",
    "    llm = Settings.llm\n",
    ")"
   ]
  },
  {
   "cell_type": "code",
   "execution_count": 45,
   "metadata": {},
   "outputs": [
    {
     "data": {
      "application/vnd.jupyter.widget-view+json": {
       "model_id": "271c7c13b20846f5b718f887d26f20d0",
       "version_major": 2,
       "version_minor": 0
      },
      "text/plain": [
       "Batches:   0%|          | 0/1 [00:00<?, ?it/s]"
      ]
     },
     "metadata": {},
     "output_type": "display_data"
    },
    {
     "name": "stdout",
     "output_type": "stream",
     "text": [
      "INFO:llama_index.core.indices.struct_store.sql_retriever:> Table desc str: Table 'aapl' has columns: id (INTEGER), date (DATETIME), open (FLOAT), high (FLOAT), low (FLOAT), close (FLOAT), volume (INTEGER), and foreign keys: . The table description is: This table gives information regarding the Apple's stock metrics including closing and opening stock prices and volume.\n",
      "\n",
      "Table 'ilmn' has columns: id (INTEGER), date (DATETIME), open (FLOAT), high (FLOAT), low (FLOAT), close (FLOAT), volume (INTEGER), and foreign keys: . The table description is: This table gives information regarding the Illumina's stock metrics including closing and opening stock prices and volume.\n",
      "> Table desc str: Table 'aapl' has columns: id (INTEGER), date (DATETIME), open (FLOAT), high (FLOAT), low (FLOAT), close (FLOAT), volume (INTEGER), and foreign keys: . The table description is: This table gives information regarding the Apple's stock metrics including closing and opening stock prices and volume.\n",
      "\n",
      "Table 'ilmn' has columns: id (INTEGER), date (DATETIME), open (FLOAT), high (FLOAT), low (FLOAT), close (FLOAT), volume (INTEGER), and foreign keys: . The table description is: This table gives information regarding the Illumina's stock metrics including closing and opening stock prices and volume.\n"
     ]
    }
   ],
   "source": [
    "query_string = \"Compare and contrast Apple, Nvidia and Illumina's stock price trends from 2020-2024. Which company weathered the economic recession from COVID-19 better? If I have $10,000, which company should I invest in?\"\n",
    "response = lats_agent.run(query_string)\n",
    "display(Markdown(f\"<b>{response}</b>\"))"
   ]
  },
  {
   "cell_type": "markdown",
   "metadata": {},
   "source": [
    "## Introspective Agent"
   ]
  },
  {
   "cell_type": "code",
   "execution_count": 16,
   "metadata": {},
   "outputs": [
    {
     "data": {
      "text/plain": [
       "'Illumina, Apple, Nvidia'"
      ]
     },
     "execution_count": 16,
     "metadata": {},
     "output_type": "execute_result"
    }
   ],
   "source": [
    "companies = \", \".join(list(table_name.values()))\n",
    "companies"
   ]
  },
  {
   "cell_type": "code",
   "execution_count": 27,
   "metadata": {},
   "outputs": [],
   "source": [
    "from llama_index.agent.introspective import (\n",
    "    ToolInteractiveReflectionAgentWorker,\n",
    "    IntrospectiveAgentWorker\n",
    ")\n",
    "from llama_index.core.agent import FunctionCallingAgentWorker, ReActAgent\n",
    "from llama_index.core.llms import ChatMessage, MessageRole"
   ]
  },
  {
   "cell_type": "code",
   "execution_count": 28,
   "metadata": {},
   "outputs": [],
   "source": [
    "def get_introspective_agent_with_tool_interactive_reflection(\n",
    "    verbose:bool = True, with_main_worker:bool = True\n",
    "):\n",
    "    \"\"\"Helper function for building introspective agent using tool-interactive\n",
    "    reflection.\n",
    "    \n",
    "    Steps:\n",
    "    1. Define the ToolInteractiveReflectionAgentWorker\n",
    "        a. Instantiate CritiqueAgentWorker to perform reflection with tools\n",
    "        b. Define an LLM that will be used to generate corrections against the critique\n",
    "        c. Define a function that determines the stopping condition for reflection/correction\n",
    "        d. Construct ToolInteractiveReflectionAgentWorker using from_defaults()\n",
    "    2. Optionally define a MainAgentWorker\n",
    "    3. Construct IntrospectiveAgent\n",
    "        a. Construct IntrospectiveAgentWorker using .from_defaults()\n",
    "        b. Construct IntrospectiveAgent using .as_agent()\n",
    "    \"\"\"\n",
    "    critique_agent_worker = FunctionCallingAgentWorker.from_tools(\n",
    "        tools = query_engine_tools, llm = Settings.llm, verbose = verbose\n",
    "    )\n",
    "    correction_llm = Settings.llm\n",
    "    \n",
    "    def stopping_callable(critique_str: str) -> bool:\n",
    "        \"\"\"Function that determines stopping condition for reflection and correction\"\"\"\n",
    "        return \"[PASS]\" in critique_str\n",
    "    \n",
    "    tool_interactive_reflection_agent_worker = (\n",
    "        ToolInteractiveReflectionAgentWorker.from_defaults(\n",
    "            critique_agent_worker = critique_agent_worker,\n",
    "            critique_template = (\n",
    "                \"Retrieve the appropriate records from the SQL database based on the user's question.\"\n",
    "                \"Check the SQL command and response carefully for correctness, and give constructive criticism on how to improve it.\"\n",
    "                \"Write '[PASS]' otherwise write '[FAIL]'.\"\n",
    "                \"Here is the text:\\n {input_str}\"\n",
    "            ),\n",
    "            stopping_callable = stopping_callable,\n",
    "            correction_llm = correction_llm,\n",
    "            verbose = verbose\n",
    "        )\n",
    "    )\n",
    "    \n",
    "    if with_main_worker:\n",
    "        main_agent_worker = ReActAgent.from_tools(\n",
    "            tools = query_engine_tools,\n",
    "            llm = Settings.llm,\n",
    "            verbose = verbose\n",
    "        )\n",
    "    else:\n",
    "        main_agent_worker = None\n",
    "    \n",
    "    introspective_agent_worker = IntrospectiveAgentWorker.from_defaults(\n",
    "        reflective_agent_worker_tool = tool_interactive_reflection_agent_worker,\n",
    "        main_agent_worker = main_agent_worker,\n",
    "        verbose = verbose\n",
    "    )\n",
    "    \n",
    "    chat_history = [\n",
    "        ChatMessage(\n",
    "            content = f\"You are a financial analyst that helps answer questions and provide data insight on historical stock prices of companies. You also augment the information by searching the Internet\",\n",
    "            role = MessageRole.SYSTEM,\n",
    "        )\n",
    "    ]\n",
    "    \n",
    "    return introspective_agent_worker.as_agent(\n",
    "        chat_history = chat_history, verbose = verbose\n",
    "    )"
   ]
  },
  {
   "cell_type": "code",
   "execution_count": 29,
   "metadata": {},
   "outputs": [
    {
     "ename": "ValueError",
     "evalue": "Model name anthropic.claude-3-opus-20240229-v1:0 does not support function calling API. ",
     "output_type": "error",
     "traceback": [
      "\u001b[0;31m---------------------------------------------------------------------------\u001b[0m",
      "\u001b[0;31mValueError\u001b[0m                                Traceback (most recent call last)",
      "Cell \u001b[0;32mIn[29], line 1\u001b[0m\n\u001b[0;32m----> 1\u001b[0m introspective_agent \u001b[38;5;241m=\u001b[39m \u001b[43mget_introspective_agent_with_tool_interactive_reflection\u001b[49m\u001b[43m(\u001b[49m\u001b[43m)\u001b[49m\n",
      "Cell \u001b[0;32mIn[28], line 18\u001b[0m, in \u001b[0;36mget_introspective_agent_with_tool_interactive_reflection\u001b[0;34m(verbose, with_main_worker)\u001b[0m\n\u001b[1;32m      1\u001b[0m \u001b[38;5;28;01mdef\u001b[39;00m \u001b[38;5;21mget_introspective_agent_with_tool_interactive_reflection\u001b[39m(\n\u001b[1;32m      2\u001b[0m     verbose:\u001b[38;5;28mbool\u001b[39m \u001b[38;5;241m=\u001b[39m \u001b[38;5;28;01mTrue\u001b[39;00m, with_main_worker:\u001b[38;5;28mbool\u001b[39m \u001b[38;5;241m=\u001b[39m \u001b[38;5;28;01mTrue\u001b[39;00m\n\u001b[1;32m      3\u001b[0m ):\n\u001b[1;32m      4\u001b[0m \u001b[38;5;250m    \u001b[39m\u001b[38;5;124;03m\"\"\"Helper function for building introspective agent using tool-interactive\u001b[39;00m\n\u001b[1;32m      5\u001b[0m \u001b[38;5;124;03m    reflection.\u001b[39;00m\n\u001b[1;32m      6\u001b[0m \u001b[38;5;124;03m    \u001b[39;00m\n\u001b[0;32m   (...)\u001b[0m\n\u001b[1;32m     16\u001b[0m \u001b[38;5;124;03m        b. Construct IntrospectiveAgent using .as_agent()\u001b[39;00m\n\u001b[1;32m     17\u001b[0m \u001b[38;5;124;03m    \"\"\"\u001b[39;00m\n\u001b[0;32m---> 18\u001b[0m     critique_agent_worker \u001b[38;5;241m=\u001b[39m \u001b[43mFunctionCallingAgentWorker\u001b[49m\u001b[38;5;241;43m.\u001b[39;49m\u001b[43mfrom_tools\u001b[49m\u001b[43m(\u001b[49m\n\u001b[1;32m     19\u001b[0m \u001b[43m        \u001b[49m\u001b[43mtools\u001b[49m\u001b[43m \u001b[49m\u001b[38;5;241;43m=\u001b[39;49m\u001b[43m \u001b[49m\u001b[43mquery_engine_tools\u001b[49m\u001b[43m,\u001b[49m\u001b[43m \u001b[49m\u001b[43mllm\u001b[49m\u001b[43m \u001b[49m\u001b[38;5;241;43m=\u001b[39;49m\u001b[43m \u001b[49m\u001b[43mSettings\u001b[49m\u001b[38;5;241;43m.\u001b[39;49m\u001b[43mllm\u001b[49m\u001b[43m,\u001b[49m\u001b[43m \u001b[49m\u001b[43mverbose\u001b[49m\u001b[43m \u001b[49m\u001b[38;5;241;43m=\u001b[39;49m\u001b[43m \u001b[49m\u001b[43mverbose\u001b[49m\n\u001b[1;32m     20\u001b[0m \u001b[43m    \u001b[49m\u001b[43m)\u001b[49m\n\u001b[1;32m     21\u001b[0m     correction_llm \u001b[38;5;241m=\u001b[39m Settings\u001b[38;5;241m.\u001b[39mllm\n\u001b[1;32m     23\u001b[0m     \u001b[38;5;28;01mdef\u001b[39;00m \u001b[38;5;21mstopping_callable\u001b[39m(critique_str: \u001b[38;5;28mstr\u001b[39m) \u001b[38;5;241m-\u001b[39m\u001b[38;5;241m>\u001b[39m \u001b[38;5;28mbool\u001b[39m:\n",
      "File \u001b[0;32m/app/tlim2/anaconda3/envs/sandbox/lib/python3.12/site-packages/llama_index/core/agent/function_calling/step.py:125\u001b[0m, in \u001b[0;36mFunctionCallingAgentWorker.from_tools\u001b[0;34m(cls, tools, tool_retriever, llm, verbose, max_function_calls, callback_manager, system_prompt, prefix_messages, **kwargs)\u001b[0m\n\u001b[1;32m    121\u001b[0m     prefix_messages \u001b[38;5;241m=\u001b[39m [ChatMessage(content\u001b[38;5;241m=\u001b[39msystem_prompt, role\u001b[38;5;241m=\u001b[39m\u001b[38;5;124m\"\u001b[39m\u001b[38;5;124msystem\u001b[39m\u001b[38;5;124m\"\u001b[39m)]\n\u001b[1;32m    123\u001b[0m prefix_messages \u001b[38;5;241m=\u001b[39m prefix_messages \u001b[38;5;129;01mor\u001b[39;00m []\n\u001b[0;32m--> 125\u001b[0m \u001b[38;5;28;01mreturn\u001b[39;00m \u001b[38;5;28;43mcls\u001b[39;49m\u001b[43m(\u001b[49m\n\u001b[1;32m    126\u001b[0m \u001b[43m    \u001b[49m\u001b[43mtools\u001b[49m\u001b[38;5;241;43m=\u001b[39;49m\u001b[43mtools\u001b[49m\u001b[43m,\u001b[49m\n\u001b[1;32m    127\u001b[0m \u001b[43m    \u001b[49m\u001b[43mtool_retriever\u001b[49m\u001b[38;5;241;43m=\u001b[39;49m\u001b[43mtool_retriever\u001b[49m\u001b[43m,\u001b[49m\n\u001b[1;32m    128\u001b[0m \u001b[43m    \u001b[49m\u001b[43mllm\u001b[49m\u001b[38;5;241;43m=\u001b[39;49m\u001b[43mllm\u001b[49m\u001b[43m,\u001b[49m\n\u001b[1;32m    129\u001b[0m \u001b[43m    \u001b[49m\u001b[43mprefix_messages\u001b[49m\u001b[38;5;241;43m=\u001b[39;49m\u001b[43mprefix_messages\u001b[49m\u001b[43m,\u001b[49m\n\u001b[1;32m    130\u001b[0m \u001b[43m    \u001b[49m\u001b[43mverbose\u001b[49m\u001b[38;5;241;43m=\u001b[39;49m\u001b[43mverbose\u001b[49m\u001b[43m,\u001b[49m\n\u001b[1;32m    131\u001b[0m \u001b[43m    \u001b[49m\u001b[43mmax_function_calls\u001b[49m\u001b[38;5;241;43m=\u001b[39;49m\u001b[43mmax_function_calls\u001b[49m\u001b[43m,\u001b[49m\n\u001b[1;32m    132\u001b[0m \u001b[43m    \u001b[49m\u001b[43mcallback_manager\u001b[49m\u001b[38;5;241;43m=\u001b[39;49m\u001b[43mcallback_manager\u001b[49m\u001b[43m,\u001b[49m\n\u001b[1;32m    133\u001b[0m \u001b[43m    \u001b[49m\u001b[38;5;241;43m*\u001b[39;49m\u001b[38;5;241;43m*\u001b[39;49m\u001b[43mkwargs\u001b[49m\u001b[43m,\u001b[49m\n\u001b[1;32m    134\u001b[0m \u001b[43m\u001b[49m\u001b[43m)\u001b[49m\n",
      "File \u001b[0;32m/app/tlim2/anaconda3/envs/sandbox/lib/python3.12/site-packages/llama_index/core/agent/function_calling/step.py:69\u001b[0m, in \u001b[0;36mFunctionCallingAgentWorker.__init__\u001b[0;34m(self, tools, llm, prefix_messages, verbose, max_function_calls, callback_manager, tool_retriever, allow_parallel_tool_calls)\u001b[0m\n\u001b[1;32m     67\u001b[0m \u001b[38;5;250m\u001b[39m\u001b[38;5;124;03m\"\"\"Init params.\"\"\"\u001b[39;00m\n\u001b[1;32m     68\u001b[0m \u001b[38;5;28;01mif\u001b[39;00m \u001b[38;5;129;01mnot\u001b[39;00m llm\u001b[38;5;241m.\u001b[39mmetadata\u001b[38;5;241m.\u001b[39mis_function_calling_model:\n\u001b[0;32m---> 69\u001b[0m     \u001b[38;5;28;01mraise\u001b[39;00m \u001b[38;5;167;01mValueError\u001b[39;00m(\n\u001b[1;32m     70\u001b[0m         \u001b[38;5;124mf\u001b[39m\u001b[38;5;124m\"\u001b[39m\u001b[38;5;124mModel name \u001b[39m\u001b[38;5;132;01m{\u001b[39;00mllm\u001b[38;5;241m.\u001b[39mmodel\u001b[38;5;132;01m}\u001b[39;00m\u001b[38;5;124m does not support function calling API. \u001b[39m\u001b[38;5;124m\"\u001b[39m\n\u001b[1;32m     71\u001b[0m     )\n\u001b[1;32m     72\u001b[0m \u001b[38;5;28mself\u001b[39m\u001b[38;5;241m.\u001b[39m_llm \u001b[38;5;241m=\u001b[39m llm\n\u001b[1;32m     73\u001b[0m \u001b[38;5;28mself\u001b[39m\u001b[38;5;241m.\u001b[39m_verbose \u001b[38;5;241m=\u001b[39m verbose\n",
      "\u001b[0;31mValueError\u001b[0m: Model name anthropic.claude-3-opus-20240229-v1:0 does not support function calling API. "
     ]
    }
   ],
   "source": [
    "introspective_agent = get_introspective_agent_with_tool_interactive_reflection()"
   ]
  },
  {
   "cell_type": "markdown",
   "metadata": {},
   "source": [
    "This approach won't work without OpenAI, and is currently unproven on structured data."
   ]
  },
  {
   "cell_type": "code",
   "execution_count": null,
   "metadata": {},
   "outputs": [],
   "source": []
  }
 ],
 "metadata": {
  "kernelspec": {
   "display_name": "Python 3",
   "language": "python",
   "name": "python3"
  },
  "language_info": {
   "codemirror_mode": {
    "name": "ipython",
    "version": 3
   },
   "file_extension": ".py",
   "mimetype": "text/x-python",
   "name": "python",
   "nbconvert_exporter": "python",
   "pygments_lexer": "ipython3",
   "version": "3.12.2"
  }
 },
 "nbformat": 4,
 "nbformat_minor": 2
}
